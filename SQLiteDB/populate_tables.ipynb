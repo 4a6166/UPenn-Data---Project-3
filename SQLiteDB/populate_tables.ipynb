{
 "cells": [
  {
   "cell_type": "code",
   "execution_count": 27,
   "id": "6b76aeb4",
   "metadata": {},
   "outputs": [],
   "source": [
    "# Import the dependencies.\n",
    "from sqlalchemy import create_engine\n",
    "from sqlalchemy import Column, Integer, String, Float\n",
    "import pandas as pd\n",
    "from sqlalchemy.ext.declarative import declarative_base\n",
    "\n",
    "# Create a base class for declarating class definitions to produce Table objects\n",
    "Base = declarative_base()"
   ]
  },
  {
   "cell_type": "code",
   "execution_count": 28,
   "id": "210ca9e6",
   "metadata": {},
   "outputs": [],
   "source": [
    "# Create Database Connection\n",
    "engine = create_engine('sqlite:///./pa_school_district.db')\n",
    "Base.metadata.create_all(engine)"
   ]
  },
  {
   "cell_type": "code",
   "execution_count": 29,
   "id": "0b452741",
   "metadata": {},
   "outputs": [],
   "source": [
    "# Create a Session Object to Connect to DB\n",
    "from sqlalchemy.orm import Session\n",
    "session = Session(bind=engine)"
   ]
  },
  {
   "cell_type": "code",
   "execution_count": 30,
   "id": "3558207f",
   "metadata": {},
   "outputs": [],
   "source": [
    "df_spend = pd.read_excel('2018-2019 Per Pupil Expenditures_db.xlsx')"
   ]
  },
  {
   "cell_type": "code",
   "execution_count": 31,
   "id": "2ce1cff5",
   "metadata": {},
   "outputs": [],
   "source": [
    "# df_spend.dtypes"
   ]
  },
  {
   "cell_type": "code",
   "execution_count": 32,
   "id": "0ce2d4ae",
   "metadata": {},
   "outputs": [
    {
     "data": {
      "text/plain": [
       "673"
      ]
     },
     "execution_count": 32,
     "metadata": {},
     "output_type": "execute_result"
    }
   ],
   "source": [
    "df_spend.to_sql('pupil_exp', con=engine, if_exists='append', index=False)"
   ]
  },
  {
   "cell_type": "code",
   "execution_count": 33,
   "id": "65322fdb",
   "metadata": {},
   "outputs": [],
   "source": [
    "# ASK BCS Help 10/18/23 with kmaphanda\n",
    "\n",
    "from sqlalchemy import create_engine, Column, Integer, Float, String\n",
    "from sqlalchemy.ext.declarative import declarative_base\n",
    "from sqlalchemy.orm import sessionmaker\n",
    "# Initialize SQLAlchemy Base and engine\n",
    "Base = declarative_base()\n",
    "engine = create_engine('sqlite:///pa_school_district.db')\n",
    "# Define new table schema with 'subject' as primary key\n",
    "class NewPAsdData(Base):\n",
    "    __tablename__ = 'keystone_state'\n",
    "    subject = Column(String, primary_key=True)\n",
    "    students = Column(String)\n",
    "    grade = Column(Integer)\n",
    "    number_scored = Column(Integer)\n",
    "    percent_below_basic = Column(Float)\n",
    "    percent_basic = Column(Float)\n",
    "    percent_proficient = Column(Float)\n",
    "    percent_advanced = Column(Float)\n",
    "    percent_advanced_proficient = Column(Float)\n",
    "# Drop the old table (optional)\n",
    "# Base.metadata.tables['keystone_state'].drop(engine, checkfirst=True)\n",
    "# Create the new table\n",
    "Base.metadata.create_all(engine)\n",
    "# Create a new session\n",
    "Session = sessionmaker(bind=engine)\n",
    "session = Session()\n",
    "# Insert existing data into the new table\n",
    "existing_data = [\n",
    "    {'subject': 'Algebra I', 'students': 'All Students', 'grade': 11, 'number_scored': 119742, 'percent_below_basic': 10.5, 'percent_basic': 26.2, 'percent_proficient': 38.7, 'percent_advanced': 24.6, 'percent_advanced_proficient': 63.3},\n",
    "    {'subject': 'Biology', 'students': 'All Students', 'grade': 11, 'number_scored': 118506, 'percent_below_basic': 16.3, 'percent_basic': 20.5, 'percent_proficient': 36.8, 'percent_advanced': 26.4, 'percent_advanced_proficient': 63.2},\n",
    "    {'subject': 'Literature', 'students': 'All Students', 'grade': 11, 'number_scored': 118885, 'percent_below_basic': 9.6, 'percent_basic': 18.9, 'percent_proficient': 58.4, 'percent_advanced': 13.1, 'percent_advanced_proficient': 71.5}\n",
    "]\n",
    "for row in existing_data:\n",
    "    entry = NewPAsdData(**row)\n",
    "    session.add(entry)\n",
    "# Commit the transaction\n",
    "session.commit()\n"
   ]
  },
  {
   "cell_type": "code",
   "execution_count": 34,
   "id": "78a977fa",
   "metadata": {},
   "outputs": [],
   "source": [
    "df_key_school = pd.read_excel('2019 Keystone Exams School Level Data_db.xlsx')"
   ]
  },
  {
   "cell_type": "code",
   "execution_count": 35,
   "id": "e92a23c5",
   "metadata": {},
   "outputs": [
    {
     "data": {
      "text/plain": [
       "4486"
      ]
     },
     "execution_count": 35,
     "metadata": {},
     "output_type": "execute_result"
    }
   ],
   "source": [
    "df_key_school.to_sql('keystone_school', con=engine, if_exists='append', index=False)"
   ]
  },
  {
   "cell_type": "code",
   "execution_count": 36,
   "id": "8b772066",
   "metadata": {},
   "outputs": [],
   "source": [
    "df_enroll = pd.read_excel('Enrollment Public Schools 2018-19_db.xlsx')"
   ]
  },
  {
   "cell_type": "code",
   "execution_count": 37,
   "id": "5f4d30f9",
   "metadata": {},
   "outputs": [
    {
     "data": {
      "text/plain": [
       "782"
      ]
     },
     "execution_count": 37,
     "metadata": {},
     "output_type": "execute_result"
    }
   ],
   "source": [
    "df_enroll.to_sql('enrollment', con=engine, if_exists='append', index=False)"
   ]
  },
  {
   "cell_type": "code",
   "execution_count": null,
   "id": "af484035",
   "metadata": {},
   "outputs": [],
   "source": []
  }
 ],
 "metadata": {
  "kernelspec": {
   "display_name": "Python 3 (ipykernel)",
   "language": "python",
   "name": "python3"
  },
  "language_info": {
   "codemirror_mode": {
    "name": "ipython",
    "version": 3
   },
   "file_extension": ".py",
   "mimetype": "text/x-python",
   "name": "python",
   "nbconvert_exporter": "python",
   "pygments_lexer": "ipython3",
   "version": "3.10.12"
  }
 },
 "nbformat": 4,
 "nbformat_minor": 5
}
