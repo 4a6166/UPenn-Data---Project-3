{
 "cells": [
  {
   "cell_type": "code",
   "execution_count": 1,
   "id": "4334c5e8",
   "metadata": {},
   "outputs": [],
   "source": [
    "# Import the dependencies.\n",
    "from sqlalchemy import create_engine\n",
    "from sqlalchemy import Column, Integer, String, Float\n",
    "import pandas as pd\n",
    "\n",
    "from sqlalchemy.ext.declarative import declarative_base\n",
    "\n",
    "# Create a base class for declarating class definitions to produce Table objects\n",
    "Base = declarative_base()"
   ]
  },
  {
   "cell_type": "code",
   "execution_count": 2,
   "id": "29a435dd",
   "metadata": {},
   "outputs": [],
   "source": [
    "# Define new table schema with 'SchoolNumber' as primary key\n",
    "class schools (Base):\n",
    "    __tablename__ = 'pa_schools'\n",
    "    AUN = Column(Integer)\n",
    "    SchoolNumber = Column(Integer, primary_key=True)\n",
    "    County = Column(String)\n",
    "    DistrictName = Column(String)\n",
    "    SchoolName = Column(String);"
   ]
  },
  {
   "cell_type": "code",
   "execution_count": 3,
   "id": "985ecda8",
   "metadata": {},
   "outputs": [],
   "source": [
    "class biology (Base):\n",
    "    __tablename__ = 'keystone_biology'\n",
    "    AUN = Column(Integer)\n",
    "    SchoolNumber = Column(Integer, primary_key=True)\n",
    "    NumberScored = Column(Integer)\n",
    "    PercentAdvanced = Column(Float)\n",
    "    PercentProficient = Column(Float)\n",
    "    PercentBasic = Column(Float)\n",
    "    PercentBelowBasic = Column(Float)"
   ]
  },
  {
   "cell_type": "code",
   "execution_count": 4,
   "id": "7628a67f",
   "metadata": {},
   "outputs": [],
   "source": [
    "class algebra (Base):\n",
    "    __tablename__ = 'keystone_algebra'\n",
    "    AUN = Column(Integer)\n",
    "    SchoolNumber = Column(Integer, primary_key=True)\n",
    "    NumberScored = Column(Integer)\n",
    "    PercentAdvanced = Column(Float)\n",
    "    PercentProficient = Column(Float)\n",
    "    PercentBasic = Column(Float)\n",
    "    PercentBelowBasic = Column(Float)"
   ]
  },
  {
   "cell_type": "code",
   "execution_count": 5,
   "id": "86e19a10",
   "metadata": {},
   "outputs": [],
   "source": [
    "class literature (Base):\n",
    "    __tablename__ = 'keystone_literature'\n",
    "    AUN = Column(Integer)\n",
    "    SchoolNumber = Column(Integer, primary_key=True)\n",
    "    NumberScored = Column(Integer)\n",
    "    PercentAdvanced = Column(Float)\n",
    "    PercentProficient = Column(Float)\n",
    "    PercentBasic = Column(Float)\n",
    "    PercentBelowBasic = Column(Float)"
   ]
  },
  {
   "cell_type": "code",
   "execution_count": 6,
   "id": "d86d33b0",
   "metadata": {},
   "outputs": [],
   "source": [
    "class personspend (Base):\n",
    "    __tablename__ = 'person_spend'\n",
    "    AUN = Column(Integer, primary_key=True)\n",
    "    LEAname = Column(String)\n",
    "    County = Column(String)\n",
    "    LocalPersonnelSpend = Column(Float)\n",
    "    LocalNonPersonnelSpend = Column(Float)\n",
    "    StatePersonnelSpend = Column(Float)\n",
    "    StateNonPersonnelSpend = Column(Float)\n",
    "    FedPersonnelSpend = Column(Float)\n",
    "    FedNonPersonnelSpend = Column(Float)\n",
    "    ADM = Column(Float)\n",
    "    LocalPupilSpend = Column(Float)\n",
    "    LocalNonPupilSpend = Column(Float)\n",
    "    StatePupilSpend = Column(Float)\n",
    "    StateNonPupilSpend = Column(Float)\n",
    "    FedPupilSpend = Column(Float)\n",
    "    FedNonPupilSpend = Column(Float)\n",
    "    "
   ]
  },
  {
   "cell_type": "code",
   "execution_count": 7,
   "id": "69623dc9",
   "metadata": {},
   "outputs": [],
   "source": [
    "# Create Database Connection\n",
    "engine = create_engine('sqlite:///./pa_school_district.db')\n",
    "Base.metadata.create_all(engine)"
   ]
  },
  {
   "cell_type": "code",
   "execution_count": 8,
   "id": "b4d9d93c",
   "metadata": {},
   "outputs": [],
   "source": [
    "# Create a Session Object to Connect to DB\n",
    "from sqlalchemy.orm import Session\n",
    "session = Session(bind=engine)"
   ]
  },
  {
   "cell_type": "code",
   "execution_count": 9,
   "id": "1788878d",
   "metadata": {},
   "outputs": [
    {
     "data": {
      "text/html": [
       "<div>\n",
       "<style scoped>\n",
       "    .dataframe tbody tr th:only-of-type {\n",
       "        vertical-align: middle;\n",
       "    }\n",
       "\n",
       "    .dataframe tbody tr th {\n",
       "        vertical-align: top;\n",
       "    }\n",
       "\n",
       "    .dataframe thead th {\n",
       "        text-align: right;\n",
       "    }\n",
       "</style>\n",
       "<table border=\"1\" class=\"dataframe\">\n",
       "  <thead>\n",
       "    <tr style=\"text-align: right;\">\n",
       "      <th></th>\n",
       "      <th>Grade</th>\n",
       "      <th>AUN</th>\n",
       "      <th>School Number</th>\n",
       "      <th>County</th>\n",
       "      <th>District Name</th>\n",
       "      <th>School Name</th>\n",
       "      <th>Subject</th>\n",
       "      <th>Group</th>\n",
       "      <th>Number Scored</th>\n",
       "      <th>Percent Advanced</th>\n",
       "      <th>Percent Proficient</th>\n",
       "      <th>Percent Basic</th>\n",
       "      <th>Percent Below Basic</th>\n",
       "    </tr>\n",
       "  </thead>\n",
       "  <tbody>\n",
       "    <tr>\n",
       "      <th>0</th>\n",
       "      <td>11</td>\n",
       "      <td>112011103</td>\n",
       "      <td>3</td>\n",
       "      <td>Adams</td>\n",
       "      <td>BERMUDIAN SPRINGS SD</td>\n",
       "      <td>BERMUDIAN SPRINGS HS</td>\n",
       "      <td>Algebra I</td>\n",
       "      <td>All Students</td>\n",
       "      <td>139</td>\n",
       "      <td>27.3</td>\n",
       "      <td>45.3</td>\n",
       "      <td>21.6</td>\n",
       "      <td>5.8</td>\n",
       "    </tr>\n",
       "    <tr>\n",
       "      <th>1</th>\n",
       "      <td>11</td>\n",
       "      <td>112011103</td>\n",
       "      <td>3</td>\n",
       "      <td>Adams</td>\n",
       "      <td>BERMUDIAN SPRINGS SD</td>\n",
       "      <td>BERMUDIAN SPRINGS HS</td>\n",
       "      <td>Algebra I</td>\n",
       "      <td>Historically Underperforming</td>\n",
       "      <td>47</td>\n",
       "      <td>14.9</td>\n",
       "      <td>29.8</td>\n",
       "      <td>38.3</td>\n",
       "      <td>17.0</td>\n",
       "    </tr>\n",
       "    <tr>\n",
       "      <th>2</th>\n",
       "      <td>11</td>\n",
       "      <td>112011103</td>\n",
       "      <td>3</td>\n",
       "      <td>Adams</td>\n",
       "      <td>BERMUDIAN SPRINGS SD</td>\n",
       "      <td>BERMUDIAN SPRINGS HS</td>\n",
       "      <td>Biology</td>\n",
       "      <td>All Students</td>\n",
       "      <td>139</td>\n",
       "      <td>25.9</td>\n",
       "      <td>38.1</td>\n",
       "      <td>23.7</td>\n",
       "      <td>12.2</td>\n",
       "    </tr>\n",
       "    <tr>\n",
       "      <th>3</th>\n",
       "      <td>11</td>\n",
       "      <td>112011103</td>\n",
       "      <td>3</td>\n",
       "      <td>Adams</td>\n",
       "      <td>BERMUDIAN SPRINGS SD</td>\n",
       "      <td>BERMUDIAN SPRINGS HS</td>\n",
       "      <td>Biology</td>\n",
       "      <td>Historically Underperforming</td>\n",
       "      <td>48</td>\n",
       "      <td>14.6</td>\n",
       "      <td>25.0</td>\n",
       "      <td>33.3</td>\n",
       "      <td>27.1</td>\n",
       "    </tr>\n",
       "    <tr>\n",
       "      <th>4</th>\n",
       "      <td>11</td>\n",
       "      <td>112011103</td>\n",
       "      <td>3</td>\n",
       "      <td>Adams</td>\n",
       "      <td>BERMUDIAN SPRINGS SD</td>\n",
       "      <td>BERMUDIAN SPRINGS HS</td>\n",
       "      <td>Literature</td>\n",
       "      <td>All Students</td>\n",
       "      <td>139</td>\n",
       "      <td>7.2</td>\n",
       "      <td>71.2</td>\n",
       "      <td>16.5</td>\n",
       "      <td>5.0</td>\n",
       "    </tr>\n",
       "  </tbody>\n",
       "</table>\n",
       "</div>"
      ],
      "text/plain": [
       "   Grade        AUN  School Number County         District Name  \\\n",
       "0     11  112011103              3  Adams  BERMUDIAN SPRINGS SD   \n",
       "1     11  112011103              3  Adams  BERMUDIAN SPRINGS SD   \n",
       "2     11  112011103              3  Adams  BERMUDIAN SPRINGS SD   \n",
       "3     11  112011103              3  Adams  BERMUDIAN SPRINGS SD   \n",
       "4     11  112011103              3  Adams  BERMUDIAN SPRINGS SD   \n",
       "\n",
       "            School Name     Subject                         Group  \\\n",
       "0  BERMUDIAN SPRINGS HS   Algebra I                  All Students   \n",
       "1  BERMUDIAN SPRINGS HS   Algebra I  Historically Underperforming   \n",
       "2  BERMUDIAN SPRINGS HS     Biology                  All Students   \n",
       "3  BERMUDIAN SPRINGS HS     Biology  Historically Underperforming   \n",
       "4  BERMUDIAN SPRINGS HS  Literature                  All Students   \n",
       "\n",
       "   Number Scored  Percent Advanced  Percent Proficient  Percent Basic  \\\n",
       "0            139              27.3                45.3           21.6   \n",
       "1             47              14.9                29.8           38.3   \n",
       "2            139              25.9                38.1           23.7   \n",
       "3             48              14.6                25.0           33.3   \n",
       "4            139               7.2                71.2           16.5   \n",
       "\n",
       "   Percent Below Basic  \n",
       "0                  5.8  \n",
       "1                 17.0  \n",
       "2                 12.2  \n",
       "3                 27.1  \n",
       "4                  5.0  "
      ]
     },
     "execution_count": 9,
     "metadata": {},
     "output_type": "execute_result"
    }
   ],
   "source": [
    "df_key_school = pd.read_excel('2019 Keystone Exams School Level Data_db.xlsx')\n",
    "df_key_school.head()"
   ]
  },
  {
   "cell_type": "code",
   "execution_count": 10,
   "id": "f770b441",
   "metadata": {},
   "outputs": [],
   "source": [
    "df_pa_schools_all = df_key_school[['AUN', 'School Number', 'County', \n",
    "                                   'District Name', 'School Name']]\n",
    "df_pa_schools = df_pa_schools_all.drop_duplicates()\n",
    "df_pa_schools = df_pa_schools.rename(columns={'School Number': 'SchoolNumber', 'District Name': 'DistrictName',\n",
    "                                              'School Name': 'SchoolName'})\n",
    "#df_pa_schools"
   ]
  },
  {
   "cell_type": "code",
   "execution_count": 11,
   "id": "1f7b9ef7",
   "metadata": {},
   "outputs": [
    {
     "data": {
      "text/plain": [
       "750"
      ]
     },
     "execution_count": 11,
     "metadata": {},
     "output_type": "execute_result"
    }
   ],
   "source": [
    "df_pa_schools.to_sql('pa_schools', con=engine, if_exists='append', index=False)"
   ]
  },
  {
   "cell_type": "code",
   "execution_count": 12,
   "id": "ee79dc7b",
   "metadata": {},
   "outputs": [],
   "source": [
    "df_results = df_key_school[['AUN', 'School Number', 'Subject','Group', 'Number Scored', 'Percent Advanced', \n",
    "                         'Percent Proficient', 'Percent Basic', 'Percent Below Basic']]\n",
    "df_results = df_results.rename(columns={'School Number': 'SchoolNumber', 'Number Scored': 'NumberScored', 'Percent Advanced': 'PercentAdvanced',\n",
    "                                        'Percent Proficient': 'PercentProficient', 'Percent Basic': 'PercentBasic',\n",
    "                                       'Percent Below Basic': 'PercentBelowBasic'})\n",
    "all_students = df_results.loc[df_key_school['Group']=='All Students']\n",
    "#all_students.head()"
   ]
  },
  {
   "cell_type": "code",
   "execution_count": 13,
   "id": "f8ebdda1",
   "metadata": {},
   "outputs": [],
   "source": [
    "bio_all_students = all_students.loc[all_students['Subject']=='Biology']\n",
    "bio_all_students = bio_all_students[['AUN', 'SchoolNumber', 'NumberScored', 'PercentAdvanced', 'PercentProficient',\n",
    "                     'PercentBasic', 'PercentBelowBasic']]\n",
    "#bio_all_students.head()"
   ]
  },
  {
   "cell_type": "code",
   "execution_count": 14,
   "id": "52ab2f9c",
   "metadata": {},
   "outputs": [
    {
     "data": {
      "text/plain": [
       "746"
      ]
     },
     "execution_count": 14,
     "metadata": {},
     "output_type": "execute_result"
    }
   ],
   "source": [
    "bio_all_students.to_sql('keystone_biology', con=engine, if_exists='append', index=False)"
   ]
  },
  {
   "cell_type": "code",
   "execution_count": 15,
   "id": "c945951d",
   "metadata": {},
   "outputs": [
    {
     "data": {
      "text/html": [
       "<div>\n",
       "<style scoped>\n",
       "    .dataframe tbody tr th:only-of-type {\n",
       "        vertical-align: middle;\n",
       "    }\n",
       "\n",
       "    .dataframe tbody tr th {\n",
       "        vertical-align: top;\n",
       "    }\n",
       "\n",
       "    .dataframe thead th {\n",
       "        text-align: right;\n",
       "    }\n",
       "</style>\n",
       "<table border=\"1\" class=\"dataframe\">\n",
       "  <thead>\n",
       "    <tr style=\"text-align: right;\">\n",
       "      <th></th>\n",
       "      <th>AUN</th>\n",
       "      <th>SchoolNumber</th>\n",
       "      <th>NumberScored</th>\n",
       "      <th>PercentAdvanced</th>\n",
       "      <th>PercentProficient</th>\n",
       "      <th>PercentBasic</th>\n",
       "      <th>PercentBelowBasic</th>\n",
       "    </tr>\n",
       "  </thead>\n",
       "  <tbody>\n",
       "    <tr>\n",
       "      <th>0</th>\n",
       "      <td>112011103</td>\n",
       "      <td>3</td>\n",
       "      <td>139</td>\n",
       "      <td>27.3</td>\n",
       "      <td>45.3</td>\n",
       "      <td>21.6</td>\n",
       "      <td>5.8</td>\n",
       "    </tr>\n",
       "    <tr>\n",
       "      <th>6</th>\n",
       "      <td>112011603</td>\n",
       "      <td>17</td>\n",
       "      <td>270</td>\n",
       "      <td>28.5</td>\n",
       "      <td>43.7</td>\n",
       "      <td>23.3</td>\n",
       "      <td>4.4</td>\n",
       "    </tr>\n",
       "    <tr>\n",
       "      <th>12</th>\n",
       "      <td>112013054</td>\n",
       "      <td>6269</td>\n",
       "      <td>76</td>\n",
       "      <td>18.4</td>\n",
       "      <td>53.9</td>\n",
       "      <td>26.3</td>\n",
       "      <td>1.3</td>\n",
       "    </tr>\n",
       "    <tr>\n",
       "      <th>18</th>\n",
       "      <td>112013753</td>\n",
       "      <td>6271</td>\n",
       "      <td>197</td>\n",
       "      <td>41.1</td>\n",
       "      <td>33.5</td>\n",
       "      <td>18.8</td>\n",
       "      <td>6.6</td>\n",
       "    </tr>\n",
       "    <tr>\n",
       "      <th>24</th>\n",
       "      <td>112015203</td>\n",
       "      <td>14</td>\n",
       "      <td>144</td>\n",
       "      <td>29.2</td>\n",
       "      <td>51.4</td>\n",
       "      <td>16.7</td>\n",
       "      <td>2.8</td>\n",
       "    </tr>\n",
       "  </tbody>\n",
       "</table>\n",
       "</div>"
      ],
      "text/plain": [
       "          AUN  SchoolNumber  NumberScored  PercentAdvanced  PercentProficient  \\\n",
       "0   112011103             3           139             27.3               45.3   \n",
       "6   112011603            17           270             28.5               43.7   \n",
       "12  112013054          6269            76             18.4               53.9   \n",
       "18  112013753          6271           197             41.1               33.5   \n",
       "24  112015203            14           144             29.2               51.4   \n",
       "\n",
       "    PercentBasic  PercentBelowBasic  \n",
       "0           21.6                5.8  \n",
       "6           23.3                4.4  \n",
       "12          26.3                1.3  \n",
       "18          18.8                6.6  \n",
       "24          16.7                2.8  "
      ]
     },
     "execution_count": 15,
     "metadata": {},
     "output_type": "execute_result"
    }
   ],
   "source": [
    "alg_all_students = all_students.loc[all_students['Subject']=='Algebra I']\n",
    "alg_all_students = alg_all_students[['AUN', 'SchoolNumber', 'NumberScored', 'PercentAdvanced', 'PercentProficient',\n",
    "                     'PercentBasic', 'PercentBelowBasic']]\n",
    "alg_all_students.head()"
   ]
  },
  {
   "cell_type": "code",
   "execution_count": 16,
   "id": "67acc1bd",
   "metadata": {},
   "outputs": [
    {
     "data": {
      "text/plain": [
       "749"
      ]
     },
     "execution_count": 16,
     "metadata": {},
     "output_type": "execute_result"
    }
   ],
   "source": [
    "alg_all_students.to_sql('keystone_algebra', con=engine, if_exists='append', index=False)"
   ]
  },
  {
   "cell_type": "code",
   "execution_count": 17,
   "id": "e1475be8",
   "metadata": {},
   "outputs": [],
   "source": [
    "lit_all_students = all_students.loc[all_students['Subject']=='Literature']\n",
    "lit_all_students = lit_all_students[['AUN', 'SchoolNumber', 'NumberScored', 'PercentAdvanced', 'PercentProficient',\n",
    "                     'PercentBasic', 'PercentBelowBasic']]\n",
    "#lit_all_students.head()"
   ]
  },
  {
   "cell_type": "code",
   "execution_count": 18,
   "id": "b3e758bd",
   "metadata": {},
   "outputs": [
    {
     "data": {
      "text/plain": [
       "748"
      ]
     },
     "execution_count": 18,
     "metadata": {},
     "output_type": "execute_result"
    }
   ],
   "source": [
    "lit_all_students.to_sql('keystone_literature', con=engine, if_exists='append', index=False)"
   ]
  },
  {
   "cell_type": "code",
   "execution_count": 19,
   "id": "ecb764c4",
   "metadata": {},
   "outputs": [],
   "source": [
    "df_person_spend = pd.read_excel('2018-2019 Per Pupil Expenditures_db.xlsx')\n"
   ]
  },
  {
   "cell_type": "code",
   "execution_count": 20,
   "id": "5d4dc76b",
   "metadata": {},
   "outputs": [],
   "source": [
    "df_person_spend = df_person_spend.rename(columns={'LEA Name': 'LEAName', '2018-2019 Local Personnel expenditures': 'LocalPersonnelSpend', '2018-2019 Local NonPersonnel expenditures': 'LocalNonPersonnelSpend',\n",
    "                                                    '2018-2019 State Personnel expenditures': 'StatePersonnelSpend', '2018-2019 State NonPersonnel expenditures': 'StateNonPersonnelSpend',\n",
    "                                                    '2018-2019 Federal Personnel expenditures': 'FedPersonnelSpend', '2018-2019 Federal NonPersonnel expenditures': 'FedNonPersonnelSpend', \n",
    "                                                    '2018-2019\\nADM':'ADM','2018-2019 Local Per Pupil Expenditure':'LocalPupilSpend','2018-2019 Local NonPer Pupil Expenditure':'LocalNonPupilSpend',\n",
    "                                                      '2018-2019 State Per Pupil Expenditure':'StatePupilSpend','2018-2019 State NonPer Pupil Expenditure':'StateNonPupilSpend',\n",
    "                                                      '2018-2019 Federal Per Pupil Expenditure':'FedPupilSpend','2018-2019 Federal NonPer Pupil Expenditure':'FedNonPupilSpend'\n",
    "                                                     })\n",
    "#df_person_spend.head()"
   ]
  },
  {
   "cell_type": "code",
   "execution_count": 21,
   "id": "4d62e62f",
   "metadata": {},
   "outputs": [
    {
     "data": {
      "text/plain": [
       "673"
      ]
     },
     "execution_count": 21,
     "metadata": {},
     "output_type": "execute_result"
    }
   ],
   "source": [
    "df_person_spend.to_sql('person_spend', con=engine, if_exists='append', index=False)"
   ]
  },
  {
   "cell_type": "code",
   "execution_count": null,
   "id": "12e91ad6",
   "metadata": {},
   "outputs": [],
   "source": []
  }
 ],
 "metadata": {
  "kernelspec": {
   "display_name": "Python 3 (ipykernel)",
   "language": "python",
   "name": "python3"
  },
  "language_info": {
   "codemirror_mode": {
    "name": "ipython",
    "version": 3
   },
   "file_extension": ".py",
   "mimetype": "text/x-python",
   "name": "python",
   "nbconvert_exporter": "python",
   "pygments_lexer": "ipython3",
   "version": "3.10.12"
  }
 },
 "nbformat": 4,
 "nbformat_minor": 5
}
