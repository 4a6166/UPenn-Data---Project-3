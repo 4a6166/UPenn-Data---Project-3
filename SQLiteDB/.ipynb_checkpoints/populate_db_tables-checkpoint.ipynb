{
 "cells": [
  {
   "cell_type": "code",
   "execution_count": 1,
   "id": "4334c5e8",
   "metadata": {},
   "outputs": [],
   "source": [
    "# Import the dependencies.\n",
    "from sqlalchemy import create_engine\n",
    "from sqlalchemy import Column, Integer, String, Float\n",
    "import pandas as pd\n",
    "\n",
    "from sqlalchemy.ext.declarative import declarative_base\n",
    "\n",
    "# Create a base class for declarating class definitions to produce Table objects\n",
    "Base = declarative_base()"
   ]
  },
  {
   "cell_type": "markdown",
   "id": "442399a3",
   "metadata": {},
   "source": [
    "# Create Tables"
   ]
  },
  {
   "cell_type": "code",
   "execution_count": 2,
   "id": "29a435dd",
   "metadata": {},
   "outputs": [],
   "source": [
    "# Define schools table schema with 'SchoolNumber' as primary key\n",
    "class schools (Base):\n",
    "    __tablename__ = 'pa_schools'\n",
    "    AUN = Column(Integer)\n",
    "    SchoolNumber = Column(Integer, primary_key=True)\n",
    "    County = Column(String)\n",
    "    District = Column(String)\n",
    "    School = Column(String);"
   ]
  },
  {
   "cell_type": "code",
   "execution_count": 3,
   "id": "985ecda8",
   "metadata": {},
   "outputs": [],
   "source": [
    "# Define biology table schema with 'SchoolNumber' as primary key\n",
    "class biology (Base):\n",
    "    __tablename__ = 'keystone_biology'\n",
    "    AUN = Column(Integer)\n",
    "    SchoolNumber = Column(Integer, primary_key=True)\n",
    "    NumberScored = Column(Integer)\n",
    "    Advanced = Column(Float)\n",
    "    Proficient = Column(Float)\n",
    "    Basic = Column(Float)\n",
    "    BelowBasic = Column(Float)"
   ]
  },
  {
   "cell_type": "code",
   "execution_count": 4,
   "id": "7628a67f",
   "metadata": {},
   "outputs": [],
   "source": [
    "# Define algebra table schema with 'SchoolNumber' as primary key\n",
    "class algebra (Base):\n",
    "    __tablename__ = 'keystone_algebra'\n",
    "    AUN = Column(Integer)\n",
    "    SchoolNumber = Column(Integer, primary_key=True)\n",
    "    NumberScored = Column(Integer)\n",
    "    Advanced = Column(Float)\n",
    "    Proficient = Column(Float)\n",
    "    Basic = Column(Float)\n",
    "    BelowBasic = Column(Float)"
   ]
  },
  {
   "cell_type": "code",
   "execution_count": 5,
   "id": "86e19a10",
   "metadata": {},
   "outputs": [],
   "source": [
    "# Define literature table schema with 'SchoolNumber' as primary key\n",
    "class literature (Base):\n",
    "    __tablename__ = 'keystone_literature'\n",
    "    AUN = Column(Integer)\n",
    "    SchoolNumber = Column(Integer, primary_key=True)\n",
    "    NumberScored = Column(Integer)\n",
    "    Advanced = Column(Float)\n",
    "    Proficient = Column(Float)\n",
    "    Basic = Column(Float)\n",
    "    BelowBasic = Column(Float)"
   ]
  },
  {
   "cell_type": "code",
   "execution_count": 6,
   "id": "d86d33b0",
   "metadata": {},
   "outputs": [],
   "source": [
    "# Define personspend table schema with 'AUN' as primary key\n",
    "class personspend (Base):\n",
    "    __tablename__ = 'person_spend'\n",
    "    AUN = Column(Integer, primary_key=True)\n",
    "    District = Column(String)\n",
    "    County = Column(String)\n",
    "    LocalPersonnel = Column(Float)\n",
    "    LocalNonPersonnel = Column(Float)\n",
    "    StatePersonnel = Column(Float)\n",
    "    StateNonPersonnel = Column(Float)\n",
    "    FedPersonnel = Column(Float)\n",
    "    FedNonPersonnel = Column(Float)\n",
    "    ADM = Column(Float)\n",
    "    LocalPupil = Column(Float)\n",
    "    LocalNonPupil = Column(Float)\n",
    "    StatePupil = Column(Float)\n",
    "    StateNonPupil = Column(Float)\n",
    "    FedPupil = Column(Float)\n",
    "    FedNonPupil = Column(Float)\n",
    "    "
   ]
  },
  {
   "cell_type": "code",
   "execution_count": 7,
   "id": "aa3c9f09",
   "metadata": {},
   "outputs": [],
   "source": [
    "# Define totalspend table schema with 'AUN' as primary key\n",
    "class totalsdspend (Base):\n",
    "    __tablename__ = 'total_sd_spend'\n",
    "    AUN = Column(Integer, primary_key=True)\n",
    "    District = Column(String)\n",
    "    County = Column(String)\n",
    "    Instruction = Column(Float)\n",
    "    SupportServices = Column(Float)\n",
    "    Operations = Column(Float)\n",
    "    CurrentSpend = Column(Float)\n",
    "    Facilities = Column(Float)\n",
    "    OtherSpend = Column(Float)\n",
    "    TotalSpend = Column(Float)\n",
    "    AIE = Column(Float)"
   ]
  },
  {
   "cell_type": "code",
   "execution_count": 8,
   "id": "a1ae0644",
   "metadata": {},
   "outputs": [],
   "source": [
    "# Define instructionspend table schema with 'AUN' as primary key\n",
    "class instructionspend (Base):\n",
    "    __tablename__ = 'program_spend'\n",
    "    AUN = Column(Integer, primary_key=True)\n",
    "    District = Column(String)\n",
    "    County = Column(String)\n",
    "    Regular = Column(Float)\n",
    "    Special = Column(Float)\n",
    "    Vocational = Column(Float)\n",
    "    Other = Column(Float)\n",
    "    NonPublicSchool = Column(Float)\n",
    "    AdultEd = Column(Float)\n",
    "    HigherEd = Column(Float)\n",
    "    PreK = Column(Float)"
   ]
  },
  {
   "cell_type": "code",
   "execution_count": 9,
   "id": "43a2be16",
   "metadata": {},
   "outputs": [],
   "source": [
    "# Define supportservspend table schema with 'AUN' as primary key\n",
    "class supportservspend (Base):\n",
    "    __tablename__ = 'support_serv_spend'\n",
    "    AUN = Column(Integer, primary_key=True)\n",
    "    District = Column(String)\n",
    "    County = Column(String)\n",
    "    Students = Column(Float)\n",
    "    InstructionalStaff = Column(Float)\n",
    "    Administration = Column(Float)\n",
    "    PupilHealth = Column(Float)\n",
    "    Business = Column(Float)\n",
    "    OperationPlant = Column(Float)\n",
    "    StudentTransport = Column(Float)\n",
    "    Central = Column(Float)\n",
    "    Other = Column(Float)"
   ]
  },
  {
   "cell_type": "code",
   "execution_count": 10,
   "id": "43f63d0a",
   "metadata": {},
   "outputs": [],
   "source": [
    "# Define revenue table schema with 'AUN' as primary key\n",
    "class revenue (Base):\n",
    "    __tablename__ = 'sd_revenue'\n",
    "    AUN = Column(Integer, primary_key=True)\n",
    "    District = Column(String)\n",
    "    County = Column(String)\n",
    "    ADM = Column(Integer)\n",
    "    Total_Revenue = Column(Float)\n",
    "    Total_Rank = Column(Integer)\n",
    "    Local_Revenue = Column(Float)\n",
    "    Local_Rank = Column(Integer)\n",
    "    State_Revenue = Column(Float)\n",
    "    State_Rank = Column(Integer)\n",
    "    Fed_Revenue = Column(Float)\n",
    "    Fed_Rank = Column(Integer)\n",
    "    Other_Revenue = Column(Float)\n",
    "    Other_Rank = Column(Integer)\n",
    "    "
   ]
  },
  {
   "cell_type": "code",
   "execution_count": 11,
   "id": "d9dcbc5f",
   "metadata": {},
   "outputs": [],
   "source": [
    "# Define enrollment table schema with 'AUN' as primary key\n",
    "class enrollment (Base):\n",
    "    __tablename__ = 'enrollment'\n",
    "    AUN = Column(Integer, primary_key=True)\n",
    "    District = Column(String)\n",
    "    LEAType = Column(String)\n",
    "    County = Column(String)\n",
    "    PKA = Column(Integer)\n",
    "    PKP = Column(Integer)\n",
    "    PKF = Column(Integer)\n",
    "    K4A = Column(Integer)\n",
    "    K4P = Column(Integer)\n",
    "    K4F = Column(Integer)\n",
    "    K5A = Column(Integer)\n",
    "    K5P = Column(Integer)\n",
    "    K5F = Column(Integer)\n",
    "    First = Column(Integer)\n",
    "    Second = Column(Integer)\n",
    "    Third = Column(Integer)\n",
    "    Fourth = Column(Integer)\n",
    "    Fifth = Column(Integer)\n",
    "    Sixth = Column(Integer)\n",
    "    Seventh = Column(Integer)\n",
    "    Eighth = Column(Integer)\n",
    "    Ninth = Column(Integer)\n",
    "    Tenth = Column(Integer)\n",
    "    Eleventh = Column(Integer)\n",
    "    Twelfth = Column(Integer)\n",
    "    HS_Total = Column(Integer)\n",
    "    SD_Total = Column(Integer)"
   ]
  },
  {
   "cell_type": "code",
   "execution_count": 12,
   "id": "e7767ce0",
   "metadata": {},
   "outputs": [],
   "source": [
    "# Define locale table schema with 'AUN' as primary key\n",
    "class locale (Base):\n",
    "    __tablename__ = 'locale'\n",
    "    District = Column(String)\n",
    "    AUN = Column(Integer, primary_key=True)\n",
    "    Locale = Column(String)\n",
    "    Metro = Column(String)"
   ]
  },
  {
   "cell_type": "code",
   "execution_count": 13,
   "id": "b4505e59",
   "metadata": {},
   "outputs": [],
   "source": [
    "# Define income table schema with 'AUN' as primary key\n",
    "class income (Base):\n",
    "    __tablename__ = 'income'\n",
    "    Income = Column(Float)\n",
    "    District = Column(String, primary_key=True)"
   ]
  },
  {
   "cell_type": "markdown",
   "id": "c3c0f0f8",
   "metadata": {},
   "source": [
    "# Database"
   ]
  },
  {
   "cell_type": "code",
   "execution_count": 14,
   "id": "69623dc9",
   "metadata": {},
   "outputs": [],
   "source": [
    "# Create Database Connection\n",
    "engine = create_engine('sqlite:///./pa_school_district.db')\n",
    "Base.metadata.create_all(engine)"
   ]
  },
  {
   "cell_type": "code",
   "execution_count": 15,
   "id": "b4d9d93c",
   "metadata": {},
   "outputs": [],
   "source": [
    "# Create a Session Object to Connect to DB\n",
    "from sqlalchemy.orm import Session\n",
    "session = Session(bind=engine)"
   ]
  },
  {
   "cell_type": "markdown",
   "id": "4dff532f",
   "metadata": {},
   "source": [
    "# Data"
   ]
  },
  {
   "cell_type": "markdown",
   "id": "7a8b6a29",
   "metadata": {},
   "source": [
    "## Keystone Scores by School"
   ]
  },
  {
   "cell_type": "code",
   "execution_count": 16,
   "id": "1788878d",
   "metadata": {},
   "outputs": [],
   "source": [
    "# Read in excel file\n",
    "df_key_school = pd.read_excel('2019 Keystone Exams School Level Data_db.xlsx')\n",
    "#df_key_school.head()"
   ]
  },
  {
   "cell_type": "markdown",
   "id": "cf10da6b",
   "metadata": {},
   "source": [
    "### PA Schools"
   ]
  },
  {
   "cell_type": "code",
   "execution_count": 17,
   "id": "f770b441",
   "metadata": {},
   "outputs": [],
   "source": [
    "# Select columns with school information and rename columns\n",
    "df_pa_schools_all = df_key_school[['AUN', 'School Number', 'County', \n",
    "                                   'District Name', 'School Name']]\n",
    "df_pa_schools = df_pa_schools_all.drop_duplicates()\n",
    "df_pa_schools = df_pa_schools.rename(columns={'School Number': 'SchoolNumber', 'District Name': 'District',\n",
    "                                              'School Name': 'School'})\n",
    "#df_pa_schools"
   ]
  },
  {
   "cell_type": "code",
   "execution_count": 18,
   "id": "1f7b9ef7",
   "metadata": {},
   "outputs": [
    {
     "data": {
      "text/plain": [
       "750"
      ]
     },
     "execution_count": 18,
     "metadata": {},
     "output_type": "execute_result"
    }
   ],
   "source": [
    "# Load data into database table\n",
    "df_pa_schools.to_sql('pa_schools', con=engine, if_exists='append', index=False)"
   ]
  },
  {
   "cell_type": "code",
   "execution_count": 19,
   "id": "ee79dc7b",
   "metadata": {},
   "outputs": [],
   "source": [
    "# Select columns with score data, rename columns, and sort out All Students\n",
    "df_results = df_key_school[['AUN', 'School Number', 'Subject','Group', 'Number Scored', 'Percent Advanced', \n",
    "                         'Percent Proficient', 'Percent Basic', 'Percent Below Basic']]\n",
    "df_results = df_results.rename(columns={'School Number': 'SchoolNumber', 'Number Scored': 'NumberScored', 'Percent Advanced': 'Advanced',\n",
    "                                        'Percent Proficient': 'Proficient', 'Percent Basic': 'Basic',\n",
    "                                       'Percent Below Basic': 'BelowBasic'})\n",
    "all_students = df_results.loc[df_key_school['Group']=='All Students']\n",
    "#all_students.head()"
   ]
  },
  {
   "cell_type": "markdown",
   "id": "7d639f97",
   "metadata": {},
   "source": [
    "### Biology Scores"
   ]
  },
  {
   "cell_type": "code",
   "execution_count": 20,
   "id": "f8ebdda1",
   "metadata": {},
   "outputs": [],
   "source": [
    "# Sort out biology scores\n",
    "bio_all_students = all_students.loc[all_students['Subject']=='Biology']\n",
    "bio_all_students = bio_all_students[['AUN', 'SchoolNumber', 'NumberScored', 'Advanced', 'Proficient',\n",
    "                     'Basic', 'BelowBasic']]\n",
    "#bio_all_students.head()"
   ]
  },
  {
   "cell_type": "code",
   "execution_count": 21,
   "id": "52ab2f9c",
   "metadata": {},
   "outputs": [
    {
     "data": {
      "text/plain": [
       "746"
      ]
     },
     "execution_count": 21,
     "metadata": {},
     "output_type": "execute_result"
    }
   ],
   "source": [
    "# Load biology scores into database table\n",
    "bio_all_students.to_sql('keystone_biology', con=engine, if_exists='append', index=False)"
   ]
  },
  {
   "cell_type": "markdown",
   "id": "6bfe46f9",
   "metadata": {},
   "source": [
    "### Algebra Scores"
   ]
  },
  {
   "cell_type": "code",
   "execution_count": 22,
   "id": "c945951d",
   "metadata": {},
   "outputs": [],
   "source": [
    "# Sort out algebra scores\n",
    "alg_all_students = all_students.loc[all_students['Subject']=='Algebra I']\n",
    "alg_all_students = alg_all_students[['AUN', 'SchoolNumber', 'NumberScored', 'Advanced', 'Proficient',\n",
    "                     'Basic', 'BelowBasic']]\n",
    "#alg_all_students.head()"
   ]
  },
  {
   "cell_type": "code",
   "execution_count": 23,
   "id": "67acc1bd",
   "metadata": {},
   "outputs": [
    {
     "data": {
      "text/plain": [
       "749"
      ]
     },
     "execution_count": 23,
     "metadata": {},
     "output_type": "execute_result"
    }
   ],
   "source": [
    "# Load algebra scores into database table\n",
    "alg_all_students.to_sql('keystone_algebra', con=engine, if_exists='append', index=False)"
   ]
  },
  {
   "cell_type": "markdown",
   "id": "a9c9e318",
   "metadata": {},
   "source": [
    "### Literature Scores"
   ]
  },
  {
   "cell_type": "code",
   "execution_count": 24,
   "id": "e1475be8",
   "metadata": {},
   "outputs": [],
   "source": [
    "# Sort out literature scores\n",
    "lit_all_students = all_students.loc[all_students['Subject']=='Literature']\n",
    "lit_all_students = lit_all_students[['AUN', 'SchoolNumber', 'NumberScored', 'Advanced', 'Proficient',\n",
    "                     'Basic', 'BelowBasic']]\n",
    "#lit_all_students.head()"
   ]
  },
  {
   "cell_type": "code",
   "execution_count": 25,
   "id": "b3e758bd",
   "metadata": {},
   "outputs": [
    {
     "data": {
      "text/plain": [
       "748"
      ]
     },
     "execution_count": 25,
     "metadata": {},
     "output_type": "execute_result"
    }
   ],
   "source": [
    "# Load literature scores into database table\n",
    "lit_all_students.to_sql('keystone_literature', con=engine, if_exists='append', index=False)"
   ]
  },
  {
   "cell_type": "markdown",
   "id": "fe04eafd",
   "metadata": {},
   "source": [
    "## Per Pupil Expenditure"
   ]
  },
  {
   "cell_type": "code",
   "execution_count": 26,
   "id": "ecb764c4",
   "metadata": {},
   "outputs": [],
   "source": [
    "# Read in excel file\n",
    "df_person_spend = pd.read_excel('2018-2019 Per Pupil Expenditures_db.xlsx')"
   ]
  },
  {
   "cell_type": "code",
   "execution_count": 27,
   "id": "5d4dc76b",
   "metadata": {},
   "outputs": [],
   "source": [
    "# Rename columns\n",
    "df_person_spend = df_person_spend.rename(columns={'LEA Name': 'District', '2018-2019 Local Personnel expenditures': 'LocalPersonnel', '2018-2019 Local NonPersonnel expenditures': 'LocalNonPersonnel',\n",
    "                                                    '2018-2019 State Personnel expenditures': 'StatePersonnel', '2018-2019 State NonPersonnel expenditures': 'StateNonPersonnel',\n",
    "                                                    '2018-2019 Federal Personnel expenditures': 'FedPersonnel', '2018-2019 Federal NonPersonnel expenditures': 'FedNonPersonnel', \n",
    "                                                    '2018-2019\\nADM':'ADM','2018-2019 Local Per Pupil Expenditure':'LocalPupil','2018-2019 Local NonPer Pupil Expenditure':'LocalNonPupil',\n",
    "                                                      '2018-2019 State Per Pupil Expenditure':'StatePupil','2018-2019 State NonPer Pupil Expenditure':'StateNonPupil',\n",
    "                                                      '2018-2019 Federal Per Pupil Expenditure':'FedPupil','2018-2019 Federal NonPer Pupil Expenditure':'FedNonPupil'\n",
    "                                                     })\n",
    "#df_person_spend.head()"
   ]
  },
  {
   "cell_type": "code",
   "execution_count": 28,
   "id": "4d62e62f",
   "metadata": {},
   "outputs": [
    {
     "data": {
      "text/plain": [
       "673"
      ]
     },
     "execution_count": 28,
     "metadata": {},
     "output_type": "execute_result"
    }
   ],
   "source": [
    "# Load data into database table\n",
    "df_person_spend.to_sql('person_spend', con=engine, if_exists='append', index=False)"
   ]
  },
  {
   "cell_type": "markdown",
   "id": "336df225",
   "metadata": {},
   "source": [
    "## School Expenditures"
   ]
  },
  {
   "cell_type": "code",
   "execution_count": 29,
   "id": "12e91ad6",
   "metadata": {},
   "outputs": [],
   "source": [
    "# Read in excel file\n",
    "df_finances = pd.read_excel('Finances AFR Expenditures 218-2019_db.xlsx')\n",
    "#df_finances.head()\n",
    "#df_finances.columns.tolist()"
   ]
  },
  {
   "cell_type": "code",
   "execution_count": 31,
   "id": "140dac5f",
   "metadata": {},
   "outputs": [],
   "source": [
    "# Rename columns\n",
    "df_finances = df_finances.rename(columns={'LEA Name': 'District', \n",
    "                                          'Instruction\\n1000': 'Instruction', \n",
    "                                          'Support Services 2000': 'SupportServices',\n",
    "                                          'Operation of Noninstructional Services 3000': 'Operations', \n",
    "                                          'Current Expenditures': 'CurrentSpend',\n",
    "                                          'Facilities Acquisition, Construction and Improvement Services 4000': 'Facilities', \n",
    "                                          'Other Expenditures and Financing Uses 5000':'OtherSpend',\n",
    "                                          'Total Expenditures ':'TotalSpend', \n",
    "                                          'Actual\\nInstruction Expense (AIE)':'AIE', \n",
    "                                          'Regular\\nPrograms - Elem/Sec\\n1100':'Regular', \n",
    "                                          'Special\\nPrograms - Elem/Sec\\n1200':'Special', \n",
    "                                          'Vocational Education Programs 1300':'Vocational', \n",
    "                                          'Other Instructional Programs - E/S 1400':'Other', \n",
    "                                          'Nonpublic School Programs 1500':'NonPublicSchool',\n",
    "                                          'Adult Education Programs 1600':'AdultEd',\n",
    "                                          'Higher Education Programs for Secondary Students 1700':'HigherEd',\n",
    "                                          'Pre-Kindergarten 1800':'PreK',\n",
    "                                          'Support Services -Students\\n2100':'Students',\n",
    "                                          'Instructional Staff 2200':'InstructionalStaff',\n",
    "                                          'Administration 2300':'Administration',\n",
    "                                          'Pupil Health 2400':'PupilHealth',\n",
    "                                          'Business 2500':'Business',\n",
    "                                          'Operation & Maintenance of Plant Services 2600':'OperationPlant',\n",
    "                                          'Student Transportation Services 2700':'StudentTransport',\n",
    "                                          'Central 2800':'Central',\n",
    "                                          'Other Support Services 2900':'Other',\n",
    "                                         })\n",
    "#df_finances.columns.tolist()"
   ]
  },
  {
   "cell_type": "code",
   "execution_count": 33,
   "id": "616e59a8",
   "metadata": {},
   "outputs": [],
   "source": [
    "# Select columns for total school district spend\n",
    "total_sd_spend = df_finances[['AUN', 'District', 'County', 'Instruction', 'SupportServices', 'Operations',\n",
    "                     'CurrentSpend', 'Facilities', 'OtherSpend', 'TotalSpend', 'AIE']]"
   ]
  },
  {
   "cell_type": "code",
   "execution_count": 34,
   "id": "64246810",
   "metadata": {},
   "outputs": [
    {
     "data": {
      "text/plain": [
       "750"
      ]
     },
     "execution_count": 34,
     "metadata": {},
     "output_type": "execute_result"
    }
   ],
   "source": [
    "# Load data into database table\n",
    "total_sd_spend.to_sql('total_sd_spend', con=engine, if_exists='append', index=False)"
   ]
  },
  {
   "cell_type": "code",
   "execution_count": 35,
   "id": "50eec506",
   "metadata": {},
   "outputs": [],
   "source": [
    "# Select columns for program spend\n",
    "program_spend = df_finances[['AUN', 'District', 'County', 'Regular', 'Special', 'Vocational',\n",
    "                     'Other', 'NonPublicSchool', 'AdultEd', 'HigherEd', 'PreK']]"
   ]
  },
  {
   "cell_type": "code",
   "execution_count": 36,
   "id": "012a4565",
   "metadata": {},
   "outputs": [
    {
     "data": {
      "text/plain": [
       "750"
      ]
     },
     "execution_count": 36,
     "metadata": {},
     "output_type": "execute_result"
    }
   ],
   "source": [
    "# Load data into database table\n",
    "program_spend.to_sql('program_spend', con=engine, if_exists='append', index=False)"
   ]
  },
  {
   "cell_type": "code",
   "execution_count": 37,
   "id": "445ec35b",
   "metadata": {},
   "outputs": [],
   "source": [
    "# Select columns for support services spend\n",
    "support_serv_spend = df_finances[['AUN', 'District', 'County', 'Students', 'InstructionalStaff', 'Administration',\n",
    "                     'PupilHealth', 'Business', 'OperationPlant', 'StudentTransport', 'Central', 'Other']]"
   ]
  },
  {
   "cell_type": "code",
   "execution_count": 38,
   "id": "db0a408a",
   "metadata": {},
   "outputs": [
    {
     "data": {
      "text/plain": [
       "750"
      ]
     },
     "execution_count": 38,
     "metadata": {},
     "output_type": "execute_result"
    }
   ],
   "source": [
    "# Load data into database table\n",
    "support_serv_spend.to_sql('support_serv_spend', con=engine, if_exists='append', index=False)"
   ]
  },
  {
   "cell_type": "markdown",
   "id": "9998c182",
   "metadata": {},
   "source": [
    "## Enrollment"
   ]
  },
  {
   "cell_type": "code",
   "execution_count": 39,
   "id": "a251e1e6",
   "metadata": {},
   "outputs": [],
   "source": [
    "# Read in excel \n",
    "df_enrollment = pd.read_excel('Enrollment Public Schools 2018-19_db.xlsx')\n"
   ]
  },
  {
   "cell_type": "code",
   "execution_count": 40,
   "id": "4b710edb",
   "metadata": {},
   "outputs": [],
   "source": [
    "# Rename columns\n",
    "df_enrollment = df_enrollment.rename(columns={'LEA Name': 'District', 'LEA Type': 'LEAType', \n",
    "                                          '001':'First', '002':'Second', '003':'Third', '004':'Fourth', '005':'Fifth', \n",
    "                                          '006':'Sixth', '007':'Seventh', '008':'Eighth', \n",
    "                                          '009':'Ninth', '010':'Tenth', '011':'Eleventh', '012':'Twelfth'})"
   ]
  },
  {
   "cell_type": "code",
   "execution_count": 41,
   "id": "ad822627",
   "metadata": {},
   "outputs": [],
   "source": [
    "# Select SD data\n",
    "df_enrollment_sd = df_enrollment.loc[df_enrollment['LEAType']=='SD']\n",
    "#df_enrollment_sd.head()\n",
    "# Load data into database table"
   ]
  },
  {
   "cell_type": "code",
   "execution_count": 43,
   "id": "230837db",
   "metadata": {},
   "outputs": [
    {
     "data": {
      "text/plain": [
       "499"
      ]
     },
     "execution_count": 43,
     "metadata": {},
     "output_type": "execute_result"
    }
   ],
   "source": [
    "# Load data to database table\n",
    "df_enrollment_sd.to_sql('enrollment', con=engine, if_exists='append', index=False)"
   ]
  },
  {
   "cell_type": "markdown",
   "id": "ad26b30c",
   "metadata": {},
   "source": [
    "## Revenues"
   ]
  },
  {
   "cell_type": "code",
   "execution_count": 44,
   "id": "e3513d2f",
   "metadata": {},
   "outputs": [],
   "source": [
    "# Read in excel\n",
    "df_revenue = pd.read_excel('Finances AFR Revenues 2018-2019_db.xlsx')\n",
    "#df_revenue.columns.tolist()"
   ]
  },
  {
   "cell_type": "code",
   "execution_count": 46,
   "id": "4c5cc85a",
   "metadata": {},
   "outputs": [],
   "source": [
    "# Rename columns\n",
    "df_revenue_sd = df_revenue.rename(columns={'LEA Name': 'District', '2018-19\\nAverage Daily Membership': 'ADM', \n",
    "                                        'Total Revenue per ADM':'Total_Revenue', 'Total Rank':'Total_Rank', 'Local Revenue per ADM':'Local_Revenue', 'Total Rank.1':'Local_Rank',\n",
    "                                        'State Revenue per ADM':'State_Revenue', 'Total Rank.2':'State_Rank', 'Federal Revenue per ADM':'Fed_Revenue', \n",
    "                                        'Total Rank.3':'Fed_Rank', 'Other Revenue per ADM':'Other_Revenue', 'Total Rank.4':'Other_Rank'})"
   ]
  },
  {
   "cell_type": "code",
   "execution_count": 47,
   "id": "3115f9f5",
   "metadata": {},
   "outputs": [
    {
     "data": {
      "text/plain": [
       "500"
      ]
     },
     "execution_count": 47,
     "metadata": {},
     "output_type": "execute_result"
    }
   ],
   "source": [
    "# Load data to database table\n",
    "df_revenue_sd.to_sql('sd_revenue', con=engine, if_exists='append', index=False)"
   ]
  },
  {
   "cell_type": "markdown",
   "id": "1ca3f6c6",
   "metadata": {},
   "source": [
    "## District Household Income"
   ]
  },
  {
   "cell_type": "code",
   "execution_count": 48,
   "id": "c37a011a",
   "metadata": {},
   "outputs": [
    {
     "data": {
      "text/plain": [
       "['Average Income', 'School District ']"
      ]
     },
     "execution_count": 48,
     "metadata": {},
     "output_type": "execute_result"
    }
   ],
   "source": [
    "# Read in excel file\n",
    "df_income = pd.read_excel('2019_pit_stats_sd_income_range 2_db.xlsx')\n",
    "#df_income.columns.tolist()"
   ]
  },
  {
   "cell_type": "code",
   "execution_count": 49,
   "id": "c20c63b7",
   "metadata": {},
   "outputs": [
    {
     "data": {
      "text/plain": [
       "['Income', 'District']"
      ]
     },
     "execution_count": 49,
     "metadata": {},
     "output_type": "execute_result"
    }
   ],
   "source": [
    "# Rename columns\n",
    "df_income = df_income.rename(columns={'Average Income': 'Income', 'School District ': 'District'})\n",
    "#df_income.columns.tolist()"
   ]
  },
  {
   "cell_type": "code",
   "execution_count": 50,
   "id": "df9222ba",
   "metadata": {},
   "outputs": [
    {
     "data": {
      "text/plain": [
       "500"
      ]
     },
     "execution_count": 50,
     "metadata": {},
     "output_type": "execute_result"
    }
   ],
   "source": [
    "# Load data into database table\n",
    "df_income.to_sql('income', con=engine, if_exists='append', index=False)"
   ]
  },
  {
   "cell_type": "markdown",
   "id": "1bf55e89",
   "metadata": {},
   "source": [
    "## District Locale"
   ]
  },
  {
   "cell_type": "code",
   "execution_count": 51,
   "id": "0a4d7a8d",
   "metadata": {},
   "outputs": [
    {
     "data": {
      "text/plain": [
       "['LEA NAME',\n",
       " 'AUN',\n",
       " 'NCES ID',\n",
       " 'County Name',\n",
       " 'County Number',\n",
       " 'Urban-centric Locale [District] ',\n",
       " 'Metro Micro Area Code']"
      ]
     },
     "execution_count": 51,
     "metadata": {},
     "output_type": "execute_result"
    }
   ],
   "source": [
    "# Read in excel\n",
    "df_locale = pd.read_excel('Urban Centric and Metro Centric Locale Codes_db.xlsx')\n",
    "#df_locale.columns.tolist()"
   ]
  },
  {
   "cell_type": "code",
   "execution_count": 52,
   "id": "50f1c023",
   "metadata": {},
   "outputs": [
    {
     "data": {
      "text/plain": [
       "['District',\n",
       " 'AUN',\n",
       " 'NCES ID',\n",
       " 'County Name',\n",
       " 'County Number',\n",
       " 'Locale',\n",
       " 'Metro']"
      ]
     },
     "execution_count": 52,
     "metadata": {},
     "output_type": "execute_result"
    }
   ],
   "source": [
    "# Rename columns\n",
    "df_locale = df_locale.rename(columns={'LEA NAME': 'District', 'Urban-centric Locale [District] ': 'Locale', \n",
    "                                      'Metro Micro Area Code':'Metro'})\n",
    "#df_locale.columns.tolist()"
   ]
  },
  {
   "cell_type": "code",
   "execution_count": 53,
   "id": "075995ca",
   "metadata": {},
   "outputs": [
    {
     "data": {
      "text/plain": [
       "['District', 'AUN', 'Locale', 'Metro']"
      ]
     },
     "execution_count": 53,
     "metadata": {},
     "output_type": "execute_result"
    }
   ],
   "source": [
    "# Select columns\n",
    "sd_locale = df_locale[['District', 'AUN', 'Locale','Metro']]\n",
    "#sd_locale.columns.tolist()"
   ]
  },
  {
   "cell_type": "code",
   "execution_count": 54,
   "id": "03533131",
   "metadata": {},
   "outputs": [
    {
     "data": {
      "text/plain": [
       "788"
      ]
     },
     "execution_count": 54,
     "metadata": {},
     "output_type": "execute_result"
    }
   ],
   "source": [
    "# Load data into database table\n",
    "sd_locale.to_sql('locale', con=engine, if_exists='append', index=False)"
   ]
  }
 ],
 "metadata": {
  "kernelspec": {
   "display_name": "Python 3 (ipykernel)",
   "language": "python",
   "name": "python3"
  },
  "language_info": {
   "codemirror_mode": {
    "name": "ipython",
    "version": 3
   },
   "file_extension": ".py",
   "mimetype": "text/x-python",
   "name": "python",
   "nbconvert_exporter": "python",
   "pygments_lexer": "ipython3",
   "version": "3.10.12"
  }
 },
 "nbformat": 4,
 "nbformat_minor": 5
}
