{
 "cells": [
  {
   "cell_type": "code",
   "execution_count": null,
   "id": "a87d449c",
   "metadata": {},
   "outputs": [],
   "source": [
    "# Import the dependencies.\n",
    "from sqlalchemy import create_engine\n",
    "from sqlalchemy import Column, Integer, String, Float\n",
    "import pandas as pd\n",
    "\n",
    "from sqlalchemy.ext.declarative import declarative_base\n",
    "# Create a base class for declarating class definitions to produce Table objects\n",
    "Base = declarative_base()"
   ]
  },
  {
   "cell_type": "code",
   "execution_count": null,
   "id": "8996ae39",
   "metadata": {},
   "outputs": [],
   "source": [
    "class PAsdData(Base):\n",
    "    __table_name__ = \"keystone_state3\"\n",
    "    subject = Column(String, primary_key=True)\n",
    "    students = Column(String)\n",
    "    grade = Column(Integer)\n",
    "    number_scored = Column(Integer)\n",
    "    percent_below_basic = Column(Float)\n",
    "    percent_basic = Column(Float)\n",
    "    percent_proficient = Column(Float)\n",
    "    percent_advanced = Column(Float)\n",
    "    percent_advanced_proficient = Column(Float)"
   ]
  },
  {
   "cell_type": "code",
   "execution_count": null,
   "id": "9c74e73b",
   "metadata": {},
   "outputs": [],
   "source": [
    "# Create Database Connection\n",
    "engine = create_engine('sqlite:///./pa_school_district.db')\n",
    "Base.metadata.create_all(engine)"
   ]
  },
  {
   "cell_type": "code",
   "execution_count": null,
   "id": "ba1c659a",
   "metadata": {},
   "outputs": [],
   "source": [
    "# Create a Session Object to Connect to DB\n",
    "from sqlalchemy.orm import Session\n",
    "session = Session(bind=engine)"
   ]
  },
  {
   "cell_type": "code",
   "execution_count": null,
   "id": "def8f020",
   "metadata": {},
   "outputs": [],
   "source": [
    "import pandas as pd\n",
    "df = pd.read_excel('2019 Keystone Exams State Level Data_db.xlsx')\n",
    "print(df.head())"
   ]
  },
  {
   "cell_type": "code",
   "execution_count": null,
   "id": "b3350d6d",
   "metadata": {},
   "outputs": [],
   "source": [
    "df.dtypes"
   ]
  },
  {
   "cell_type": "code",
   "execution_count": null,
   "id": "d41ac164",
   "metadata": {},
   "outputs": [],
   "source": [
    "df.to_sql('keystone_state2', con=engine, if_exists='append', index=False)"
   ]
  },
  {
   "cell_type": "code",
   "execution_count": null,
   "id": "cf41f77a",
   "metadata": {},
   "outputs": [],
   "source": [
    "df.to_sql('keystone_state3', con=engine, if_exists='append', index=False)"
   ]
  },
  {
   "cell_type": "code",
   "execution_count": null,
   "id": "0cec2535",
   "metadata": {},
   "outputs": [],
   "source": [
    "with engine.connect() as con:\n",
    "    con.execute(\"ALTER TABLE `keystone_state2` ADD PRIMARY KEY (`Subject`);\")"
   ]
  },
  {
   "cell_type": "code",
   "execution_count": null,
   "id": "625346ca",
   "metadata": {},
   "outputs": [],
   "source": [
    "from sqlalchemy import create_engine, MetaData, Table, Column, Integer, Float, String\n",
    "# Create an SQLite database engine (replace 'your_database.db' with your database name)\n",
    "engine = create_engine('sqlite:///pa_school_district.db')\n",
    "# Connect to the database\n",
    "with engine.connect() as conn:\n",
    "    # Step 1: Create a new table with a primary key\n",
    "    metadata = MetaData()\n",
    "    new_table = Table(\n",
    "        'new_table', metadata,\n",
    "        Column('Subject', String, primary_key=True),\n",
    "        Column('Group', String),\n",
    "        Column('Grade', Integer),\n",
    "        Column('Number Scored', Integer),\n",
    "        Column('% Below Basic', Float),\n",
    "        Column('% Basic', Float),\n",
    "        Column('% Proficient', Float),\n",
    "        Column('% Advanced', Float),\n",
    "        Column('% Advanced/Proficient', Float)\n",
    "    )\n",
    "    new_table.create(engine)\n",
    "    # Step 2: Copy data from the existing table to the new table\n",
    "    conn.execute('INSERT INTO new_table SELECT * FROM keystone_state2')\n",
    "    # Step 3: Drop the existing table\n",
    "    conn.execute('DROP TABLE keystone_state2')\n",
    "    # Step 4: Rename the new table to the original name\n",
    "    conn.execute('ALTER TABLE new_table RENAME TO keystone_state2')\n",
    "\n",
    "\n",
    "\n",
    "\n",
    "\n",
    "\n",
    "\n",
    "\n",
    "\n"
   ]
  },
  {
   "cell_type": "code",
   "execution_count": null,
   "id": "f5fee827",
   "metadata": {},
   "outputs": [],
   "source": [
    "from sqlalchemy import create_engine, Column, Integer, Float, String\n",
    "from sqlalchemy.ext.declarative import declarative_base\n",
    "from sqlalchemy.orm import sessionmaker\n",
    "# Initialize SQLAlchemy Base and engine\n",
    "Base = declarative_base()\n",
    "engine = create_engine('sqlite:///pa_school_district.db')\n",
    "# Define new table schema with 'subject' as primary key\n",
    "class NewPAsdData(Base):\n",
    "    __tablename__ = 'keystone_state'\n",
    "    subject = Column(String, primary_key=True)\n",
    "    students = Column(String)\n",
    "    grade = Column(Integer)\n",
    "    number_scored = Column(Integer)\n",
    "    percent_below_basic = Column(Float)\n",
    "    percent_basic = Column(Float)\n",
    "    percent_proficient = Column(Float)\n",
    "    percent_advanced = Column(Float)\n",
    "    percent_advanced_proficient = Column(Float)\n",
    "# Drop the old table (optional)\n",
    "# Base.metadata.tables['keystone_state'].drop(engine, checkfirst=True)\n",
    "# Create the new table\n",
    "Base.metadata.create_all(engine)\n",
    "# Create a new session\n",
    "Session = sessionmaker(bind=engine)\n",
    "session = Session()\n",
    "# Insert existing data into the new table\n",
    "existing_data = [\n",
    "    {'subject': 'Algebra I', 'students': 'All Students', 'grade': 11, 'number_scored': 119742, 'percent_below_basic': 10.5, 'percent_basic': 26.2, 'percent_proficient': 38.7, 'percent_advanced': 24.6, 'percent_advanced_proficient': 63.3},\n",
    "    {'subject': 'Biology', 'students': 'All Students', 'grade': 11, 'number_scored': 118506, 'percent_below_basic': 16.3, 'percent_basic': 20.5, 'percent_proficient': 36.8, 'percent_advanced': 26.4, 'percent_advanced_proficient': 63.2},\n",
    "    {'subject': 'Literature', 'students': 'All Students', 'grade': 11, 'number_scored': 118885, 'percent_below_basic': 9.6, 'percent_basic': 18.9, 'percent_proficient': 58.4, 'percent_advanced': 13.1, 'percent_advanced_proficient': 71.5}\n",
    "]\n",
    "for row in existing_data:\n",
    "    entry = NewPAsdData(**row)\n",
    "    session.add(entry)\n",
    "# Commit the transaction\n",
    "session.commit()\n",
    "\n"
   ]
  },
  {
   "cell_type": "code",
   "execution_count": null,
   "id": "da90e2fc",
   "metadata": {},
   "outputs": [],
   "source": [
    "print(new_keystone_state)"
   ]
  },
  {
   "cell_type": "code",
   "execution_count": null,
   "id": "4dba6bb0",
   "metadata": {},
   "outputs": [],
   "source": []
  }
 ],
 "metadata": {
  "kernelspec": {
   "display_name": "Python 3 (ipykernel)",
   "language": "python",
   "name": "python3"
  },
  "language_info": {
   "codemirror_mode": {
    "name": "ipython",
    "version": 3
   },
   "file_extension": ".py",
   "mimetype": "text/x-python",
   "name": "python",
   "nbconvert_exporter": "python",
   "pygments_lexer": "ipython3",
   "version": "3.10.12"
  }
 },
 "nbformat": 4,
 "nbformat_minor": 5
}
