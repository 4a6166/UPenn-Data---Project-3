{
 "cells": [
  {
   "cell_type": "markdown",
   "id": "9014fcd2",
   "metadata": {},
   "source": [
    "## Data cleaning for slope chart\n",
    "\n",
    "### Sources:\n",
    "|  * https://patch.com/pennsylvania/across-pa/these-are-best-school-districts-pa-new-ranking-says\n",
    "|  * 2018-2019 Keystone Results file\n",
    "|  * 2018-2019 Per Pupil Expenditure file"
   ]
  },
  {
   "cell_type": "code",
   "execution_count": 1,
   "id": "f675610e",
   "metadata": {},
   "outputs": [],
   "source": [
    "import pandas as pd\n",
    "from splinter import Browser\n",
    "from bs4 import BeautifulSoup"
   ]
  },
  {
   "cell_type": "code",
   "execution_count": 2,
   "id": "b353868d",
   "metadata": {},
   "outputs": [],
   "source": [
    "# Set up Splinter\n",
    "browser = Browser('chrome')"
   ]
  },
  {
   "cell_type": "code",
   "execution_count": 3,
   "id": "c29c0544",
   "metadata": {},
   "outputs": [],
   "source": [
    "# Visit the Patch \"Top 25 Districts\" article\n",
    "url = \"https://patch.com/pennsylvania/across-pa/these-are-best-school-districts-pa-new-ranking-says\"\n",
    "browser.visit(url)"
   ]
  },
  {
   "cell_type": "code",
   "execution_count": 4,
   "id": "ff35984f",
   "metadata": {},
   "outputs": [],
   "source": [
    "# Parse the website\n",
    "html = browser.html\n",
    "soup = BeautifulSoup(html, 'html.parser')"
   ]
  },
  {
   "cell_type": "code",
   "execution_count": 14,
   "id": "dd48ecb2",
   "metadata": {},
   "outputs": [
    {
     "name": "stdout",
     "output_type": "stream",
     "text": [
      "[<li><a href=\"https://www.niche.com/k12/d/radnor-township-school-district-pa/\" rel=\"nofollow\" target=\"_blank\">Radnor Township School District</a>, Wayne: A+</li>, <li><a href=\"https://www.niche.com/k12/d/tredyffrin-easttown-school-district-pa/\" rel=\"nofollow\" target=\"_blank\">Tredyffrin-Easttown School District</a>, Wayne: A+</li>, <li><a href=\"https://www.niche.com/k12/d/north-allegheny-school-district-pa/\" rel=\"nofollow\" target=\"_blank\">North Allegheny School District</a>, Pittsburgh: A+</li>, <li><a href=\"https://www.niche.com/k12/d/lower-merion-school-district-pa/\" rel=\"nofollow\" target=\"_blank\">Lower Merion School District</a>, Ardmore: A+</li>, <li><a href=\"https://www.niche.com/k12/d/mt-lebanon-school-district-pa/\" rel=\"nofollow\" target=\"_blank\">Mt. Lebanon School District</a>, Pittsburgh: A+</li>, <li><a href=\"https://www.niche.com/k12/d/upper-st-clair-school-district-pa/\" rel=\"nofollow\" target=\"_blank\">Upper St. Clair School District</a>, Pittsburgh: A+</li>, <li><a href=\"https://www.niche.com/k12/d/fox-chapel-area-school-district-pa/\" rel=\"nofollow\" target=\"_blank\">Fox Chapel Area School District</a>, Pittsburgh: A+</li>, <li><a href=\"https://www.niche.com/k12/d/south-fayette-township-school-district-pa/\" rel=\"nofollow\" target=\"_blank\">South Fayette Township School District</a>, McDonald: A+</li>, <li><a href=\"https://www.niche.com/k12/d/derry-township-school-district-pa/\" rel=\"nofollow\" target=\"_blank\">Derry Township School District</a>, Hershey: A+ </li>, <li><a href=\"https://www.niche.com/k12/d/state-college-area-school-district-pa/\" rel=\"nofollow\" target=\"_blank\">State College Area School District</a>, State College: A+</li>, <li><a href=\"https://www.niche.com/k12/d/colonial-school-district-pa/\" rel=\"nofollow\" target=\"_blank\">Colonial School District,</a> Plymouth Meeting: A+</li>, <li><a href=\"https://www.niche.com/k12/d/wallingford-swarthmore-school-district-pa/\" rel=\"nofollow\" target=\"_blank\">Wallingford-Swarthmore School District</a>, Wallingford: A+</li>, <li><a href=\"https://www.niche.com/k12/d/unionville-chadds-ford-school-district-pa/\" rel=\"nofollow\" target=\"_blank\">Unionville-Chadds Ford School District,</a> Kennett Square: A+</li>, <li><a href=\"https://www.niche.com/k12/d/spring-ford-area-school-district-pa/\" rel=\"nofollow\" target=\"_blank\">Spring-Ford Area School District</a>, Royersford: A+</li>, <li><a href=\"https://www.niche.com/k12/d/wissahickon-school-district-pa/\" rel=\"nofollow\" target=\"_blank\">Wissahickon School District</a>, Ambler: A+ </li>, <li><a href=\"https://www.niche.com/k12/d/garnet-valley-school-district-pa/\" rel=\"nofollow\" target=\"_blank\">Garnet Valley School District</a>, Glen Mills: A+</li>, <li><a href=\"https://www.niche.com/k12/d/hampton-township-school-district-pa/\" rel=\"nofollow\" target=\"_blank\">Hampton Township School District</a>, Allison Park: A+</li>, <li><a href=\"https://www.niche.com/k12/d/springfield-school-district-pa/\" rel=\"nofollow\" target=\"_blank\">Springfield School District</a>, Springfield: A+</li>, <li><a href=\"https://www.niche.com/k12/d/peters-township-school-district-pa/\" rel=\"nofollow\" target=\"_blank\">Peters Township School District</a>, McMurray: A+</li>, <li><a href=\"https://www.niche.com/k12/d/west-chester-area-school-district-pa/\" rel=\"nofollow\" target=\"_blank\">West Chester Area School District,</a> Exton: A+</li>, <li><a href=\"https://www.niche.com/k12/d/downingtown-area-school-district-pa/\" rel=\"nofollow\" target=\"_blank\">Downington Area School District</a>, Downington: A</li>, <li><a href=\"https://www.niche.com/k12/d/school-district-of-upper-dublin-pa/\" rel=\"nofollow\" target=\"_blank\">School District of Upper Dublin</a>, Maple Glen: A</li>, <li><a href=\"https://www.niche.com/k12/d/central-bucks-school-district-pa/\" rel=\"nofollow\" target=\"_blank\">Central Bucks School District</a>, Doylestown: A</li>, <li><a href=\"https://www.niche.com/k12/d/new-hope-solebury-school-district-pa/\" rel=\"nofollow\" target=\"_blank\">New Hope-Solebury School District</a>, New Hope: A</li>, <li><a href=\"https://www.niche.com/k12/d/quaker-valley-school-district-pa/\" rel=\"nofollow\" target=\"_blank\">Quaker Valley School District</a>, Leetsdale: A </li>]\n"
     ]
    }
   ],
   "source": [
    "# Create a variable for the main area of the list\n",
    "schools_list=soup.find(\"ol\").find_all(\"li\")\n",
    "print(schools_list)\n",
    "\n",
    "# Create an empty variable to creaete a list of individual schools\n",
    "top_pa_schools=[]\n",
    "\n",
    "\n"
   ]
  },
  {
   "cell_type": "code",
   "execution_count": null,
   "id": "239de63a",
   "metadata": {},
   "outputs": [],
   "source": [
    "# Import Excel files for scores and per pupil expenditures\n"
   ]
  },
  {
   "cell_type": "code",
   "execution_count": null,
   "id": "080d86a0",
   "metadata": {},
   "outputs": [],
   "source": [
    "# Quit the browsing session\n",
    "browser.quit()"
   ]
  }
 ],
 "metadata": {
  "kernelspec": {
   "display_name": "Python 3 (ipykernel)",
   "language": "python",
   "name": "python3"
  },
  "language_info": {
   "codemirror_mode": {
    "name": "ipython",
    "version": 3
   },
   "file_extension": ".py",
   "mimetype": "text/x-python",
   "name": "python",
   "nbconvert_exporter": "python",
   "pygments_lexer": "ipython3",
   "version": "3.10.12"
  }
 },
 "nbformat": 4,
 "nbformat_minor": 5
}
